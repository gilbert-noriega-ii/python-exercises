{
 "cells": [
  {
   "cell_type": "markdown",
   "metadata": {},
   "source": [
    "Exercise 1) On the line below, create a variable named on_mars_right_now and assign it the boolean value of False"
   ]
  },
  {
   "cell_type": "code",
   "execution_count": 1,
   "metadata": {},
   "outputs": [
    {
     "name": "stdout",
     "output_type": "stream",
     "text": [
      "Exercise 1 is correct.\n"
     ]
    }
   ],
   "source": [
    "on_mars_right_now = False\n",
    "\n",
    "assert on_mars_right_now == False, \"If you see a Name Error, be sure to create the variable and assign it a value.\"\n",
    "print(\"Exercise 1 is correct.\")"
   ]
  },
  {
   "cell_type": "markdown",
   "metadata": {},
   "source": [
    "Exercise 2)\n",
    "Create a variable named fruits and assign it a list of fruits containing the following fruit names as strings: \n",
    "\n",
    "mango, banana, guava, kiwi, and strawberry."
   ]
  },
  {
   "cell_type": "code",
   "execution_count": 2,
   "metadata": {},
   "outputs": [
    {
     "name": "stdout",
     "output_type": "stream",
     "text": [
      "Exercise 2 is correct.\n"
     ]
    }
   ],
   "source": [
    "fruits = [\"mango\", \"banana\", \"guava\", \"kiwi\", \"strawberry\"]\n",
    "\n",
    "assert fruits == [\"mango\", \"banana\", \"guava\", \"kiwi\", \"strawberry\"], \"If you see an Assert Error, ensure the variable contains all the strings in the provided order\"\n",
    "print(\"Exercise 2 is correct.\")"
   ]
  },
  {
   "cell_type": "markdown",
   "metadata": {},
   "source": [
    "Exercise 3) Create a variable named vegetables and assign it a list of fruits containing the following vegetable names as strings: \n",
    "\n",
    "eggplant, broccoli, carrot, cauliflower, and zucchini"
   ]
  },
  {
   "cell_type": "code",
   "execution_count": 3,
   "metadata": {},
   "outputs": [
    {
     "name": "stdout",
     "output_type": "stream",
     "text": [
      "Exercise 3 is correct.\n"
     ]
    }
   ],
   "source": [
    "vegetables = [\"eggplant\", \"broccoli\", \"carrot\", \"cauliflower\", \"zucchini\"]\n",
    "\n",
    "assert vegetables == [\"eggplant\", \"broccoli\", \"carrot\", \"cauliflower\", \"zucchini\"], \"Ensure the variable contains all the strings in the provided order\"\n",
    "print(\"Exercise 3 is correct.\")"
   ]
  },
  {
   "cell_type": "markdown",
   "metadata": {},
   "source": [
    "Exercise 4) Create a variable named numbers and assign it a list of numbers:\n",
    "\n",
    "1, 2, 3, 4, 5, 6, 7, 8, 9, 10"
   ]
  },
  {
   "cell_type": "code",
   "execution_count": 4,
   "metadata": {},
   "outputs": [
    {
     "name": "stdout",
     "output_type": "stream",
     "text": [
      "Exercise 4 is correct.\n"
     ]
    }
   ],
   "source": [
    "numbers = [1, 2, 3, 4, 5, 6, 7, 8, 9, 10]\n",
    "\n",
    "assert numbers == [1, 2, 3, 4, 5, 6, 7, 8, 9, 10], \"Ensure the variable contains the numbers 1-10 in order.\"\n",
    "print(\"Exercise 4 is correct.\")"
   ]
  },
  {
   "cell_type": "markdown",
   "metadata": {},
   "source": [
    "# List Operations\n",
    "Hint Recommend finding and using built-in Python functionality whenever possible."
   ]
  },
  {
   "cell_type": "markdown",
   "metadata": {},
   "source": [
    "Exercise 5) Given the following assigment of the list of fruits, add \"tomato\" to the end of the list."
   ]
  },
  {
   "cell_type": "code",
   "execution_count": 5,
   "metadata": {},
   "outputs": [
    {
     "name": "stdout",
     "output_type": "stream",
     "text": [
      "Exercise 5 is correct\n"
     ]
    }
   ],
   "source": [
    "fruits.append(\"tomato\")\n",
    "\n",
    "assert fruits == [\"mango\", \"banana\", \"guava\", \"kiwi\", \"strawberry\", \"tomato\"], \"Ensure the variable contains all the strings in the right order\"\n",
    "print(\"Exercise 5 is correct\")"
   ]
  },
  {
   "cell_type": "markdown",
   "metadata": {},
   "source": [
    "Exercise 6) Given the following assignment of the vegetables list, add \"tomato\" to the end of the list."
   ]
  },
  {
   "cell_type": "code",
   "execution_count": 6,
   "metadata": {},
   "outputs": [
    {
     "name": "stdout",
     "output_type": "stream",
     "text": [
      "Exercise 6 is correct\n"
     ]
    }
   ],
   "source": [
    "vegetables.append(\"tomato\")\n",
    "\n",
    "assert vegetables == [\"eggplant\", \"broccoli\", \"carrot\", \"cauliflower\", \"zucchini\", \"tomato\"], \"Ensure the variable contains all the strings in the provided order\"\n",
    "print(\"Exercise 6 is correct\")"
   ]
  },
  {
   "cell_type": "markdown",
   "metadata": {},
   "source": [
    "Exercise 7) Given the list of numbers defined below, reverse the list of numbers that you created above."
   ]
  },
  {
   "cell_type": "code",
   "execution_count": 7,
   "metadata": {},
   "outputs": [
    {
     "name": "stdout",
     "output_type": "stream",
     "text": [
      "Exercise 7 is correct.\n"
     ]
    }
   ],
   "source": [
    "numbers.reverse()\n",
    "\n",
    "assert numbers == [10, 9, 8, 7, 6, 5, 4, 3, 2, 1], \"Assert Error means that the answer is incorrect.\" \n",
    "print(\"Exercise 7 is correct.\")"
   ]
  },
  {
   "cell_type": "markdown",
   "metadata": {},
   "source": [
    "Exercise 8) Sort the vegetables in alphabetical order"
   ]
  },
  {
   "cell_type": "code",
   "execution_count": 8,
   "metadata": {},
   "outputs": [
    {
     "name": "stdout",
     "output_type": "stream",
     "text": [
      "Exercise 8 is correct.\n"
     ]
    }
   ],
   "source": [
    "vegetables.sort()\n",
    "\n",
    "assert vegetables == ['broccoli', 'carrot', 'cauliflower', 'eggplant', 'tomato', 'zucchini']\n",
    "print(\"Exercise 8 is correct.\")"
   ]
  },
  {
   "cell_type": "markdown",
   "metadata": {},
   "source": [
    "Exercise 9) Write the code necessary to sort the fruits in reverse alphabetical order"
   ]
  },
  {
   "cell_type": "code",
   "execution_count": 9,
   "metadata": {},
   "outputs": [
    {
     "name": "stdout",
     "output_type": "stream",
     "text": [
      "Exercise 9 is correct.\n"
     ]
    }
   ],
   "source": [
    "fruits.sort(reverse = True)\n",
    "\n",
    "assert fruits == ['tomato', 'strawberry', 'mango', 'kiwi', 'guava', 'banana']\n",
    "print(\"Exercise 9 is correct.\")"
   ]
  },
  {
   "cell_type": "markdown",
   "metadata": {},
   "source": [
    "Exercise 10) Write the code necessary to produce a single list that holds all fruits then all vegetables in the order as they were sorted above."
   ]
  },
  {
   "cell_type": "code",
   "execution_count": 10,
   "metadata": {},
   "outputs": [
    {
     "name": "stdout",
     "output_type": "stream",
     "text": [
      "Exercise 10 is correct\n"
     ]
    }
   ],
   "source": [
    "fruits_and_veggies = (fruits + vegetables)\n",
    "\n",
    "assert fruits_and_veggies == ['tomato', 'strawberry', 'mango', 'kiwi', 'guava', 'banana', 'broccoli', 'carrot', 'cauliflower', 'eggplant', 'tomato', 'zucchini']\n",
    "print(\"Exercise 10 is correct\")"
   ]
  },
  {
   "cell_type": "markdown",
   "metadata": {},
   "source": [
    "# Basic Functions\n",
    "Hint Be sure to return values from your function definitions. The assert statements will call your function(s) for you."
   ]
  },
  {
   "cell_type": "code",
   "execution_count": 11,
   "metadata": {},
   "outputs": [
    {
     "name": "stdout",
     "output_type": "stream",
     "text": [
      "We now have some random numbers available for future exercises.\n",
      "The random positive even number is 66\n",
      "The random positive odd nubmer is 97\n",
      "The random negative even number -18\n",
      "The random negative odd number -17\n"
     ]
    }
   ],
   "source": [
    "# Run this cell in order to generate some numbers to use in our functions after this.\n",
    "import random\n",
    "    \n",
    "positive_even_number = random.randrange(2, 101, 2)\n",
    "negative_even_number = random.randrange(-100, -1, 2)\n",
    "\n",
    "positive_odd_number = random.randrange(1, 100, 2)\n",
    "negative_odd_number = random.randrange(-101, 0, 2)\n",
    "print(\"We now have some random numbers available for future exercises.\")\n",
    "print(\"The random positive even number is\", positive_even_number)\n",
    "print(\"The random positive odd nubmer is\", positive_odd_number)\n",
    "print(\"The random negative even number\", negative_even_number)\n",
    "print(\"The random negative odd number\", negative_odd_number)"
   ]
  },
  {
   "cell_type": "markdown",
   "metadata": {},
   "source": [
    "Exercise 11) Write a function definition for a function named add_one that takes in a number and returns that number plus one.\n"
   ]
  },
  {
   "cell_type": "code",
   "execution_count": 12,
   "metadata": {},
   "outputs": [
    {
     "name": "stdout",
     "output_type": "stream",
     "text": [
      "Exercise 11 is correct.\n"
     ]
    }
   ],
   "source": [
    "def add_one(number):\n",
    "    return number + 1\n",
    "    \n",
    "assert add_one(2) == 3, \"Ensure that the function is defined, named properly, and returns the correct value\"\n",
    "assert add_one(0) == 1, \"Zero plus one is one.\"\n",
    "assert add_one(positive_even_number) == positive_even_number + 1, \"Ensure that the function is defined, named properly, and returns the correct value\"\n",
    "assert add_one(negative_odd_number) == negative_odd_number + 1, \"Ensure that the function is defined, named properly, and returns the correct value\"\n",
    "print(\"Exercise 11 is correct.\") "
   ]
  },
  {
   "cell_type": "markdown",
   "metadata": {},
   "source": [
    "Exercise 12) Write a function definition named is_positive that takes in a number and returns True or False if that number is positive.\n"
   ]
  },
  {
   "cell_type": "code",
   "execution_count": 13,
   "metadata": {},
   "outputs": [
    {
     "name": "stdout",
     "output_type": "stream",
     "text": [
      "Exercise 12 is correct.\n"
     ]
    }
   ],
   "source": [
    "def is_positive(number):\n",
    "    if number > 0:\n",
    "        return True\n",
    "    else: \n",
    "        return False\n",
    "\n",
    "\n",
    "assert is_positive(positive_odd_number) == True, \"Ensure that the function is defined, named properly, and returns the correct value\"\n",
    "assert is_positive(positive_even_number) == True, \"Ensure that the function is defined, named properly, and returns the correct value\"\n",
    "assert is_positive(negative_odd_number) == False, \"Ensure that the function is defined, named properly, and returns the correct value\"\n",
    "assert is_positive(negative_even_number) == False, \"Ensure that the function is defined, named properly, and returns the correct value\"\n",
    "print(\"Exercise 12 is correct.\")"
   ]
  },
  {
   "cell_type": "markdown",
   "metadata": {},
   "source": [
    "Exercise 13) Write a function definition named is_negative that takes in a number and returns True or False if that number is negative."
   ]
  },
  {
   "cell_type": "code",
   "execution_count": 14,
   "metadata": {},
   "outputs": [
    {
     "name": "stdout",
     "output_type": "stream",
     "text": [
      "Exercise 13 is correct.\n"
     ]
    }
   ],
   "source": [
    "def is_negative(number):\n",
    "    if number > 0:\n",
    "        return False\n",
    "    else:\n",
    "        return True\n",
    "\n",
    "assert is_negative(positive_odd_number) == False, \"Ensure that the function is defined, named properly, and returns the correct value\"\n",
    "assert is_negative(positive_even_number) == False, \"Ensure that the function is defined, named properly, and returns the correct value\"\n",
    "assert is_negative(negative_odd_number) == True, \"Ensure that the function is defined, named properly, and returns the correct value\"\n",
    "assert is_negative(negative_even_number) == True, \"Ensure that the function is defined, named properly, and returns the correct value\"\n",
    "print(\"Exercise 13 is correct.\")"
   ]
  },
  {
   "cell_type": "markdown",
   "metadata": {},
   "source": [
    "Exercise 14) Write a function definition named is_odd that takes in a number and returns True or False if that number is odd."
   ]
  },
  {
   "cell_type": "code",
   "execution_count": 15,
   "metadata": {},
   "outputs": [
    {
     "name": "stdout",
     "output_type": "stream",
     "text": [
      "Exercise 14 is correct.\n"
     ]
    }
   ],
   "source": [
    "def is_odd(number):\n",
    "    remainder = number % 2\n",
    "    if remainder == 0:\n",
    "        return False\n",
    "    else:\n",
    "        return True\n",
    "\n",
    "assert is_odd(positive_odd_number) == True, \"Ensure that the function is defined, named properly, and returns the correct value\"\n",
    "assert is_odd(positive_even_number) == False, \"Ensure that the function is defined, named properly, and returns the correct value\"\n",
    "assert is_odd(negative_odd_number) == True, \"Ensure that the function is defined, named properly, and returns the correct value\"\n",
    "assert is_odd(negative_even_number) == False, \"Ensure that the function is defined, named properly, and returns the correct value\"\n",
    "print(\"Exercise 14 is correct.\")"
   ]
  },
  {
   "cell_type": "markdown",
   "metadata": {},
   "source": [
    "Exercise 15) Write a function definition named is_even that takes in a number and returns True or False if that number is even."
   ]
  },
  {
   "cell_type": "code",
   "execution_count": 16,
   "metadata": {},
   "outputs": [
    {
     "name": "stdout",
     "output_type": "stream",
     "text": [
      "Exercise 15 is correct.\n"
     ]
    }
   ],
   "source": [
    "def is_even(number):\n",
    "    remainder = number % 2\n",
    "    if remainder == 0:\n",
    "        return True\n",
    "    else:\n",
    "        return False\n",
    "\n",
    "assert is_even(2) == True, \"Ensure that the function is defined, named properly, and returns the correct value\"\n",
    "assert is_even(positive_odd_number) == False, \"Ensure that the function is defined, named properly, and returns the correct value\"\n",
    "assert is_even(positive_even_number) == True, \"Ensure that the function is defined, named properly, and returns the correct value\"\n",
    "assert is_even(negative_odd_number) == False, \"Ensure that the function is defined, named properly, and returns the correct value\"\n",
    "assert is_even(negative_even_number) == True, \"Ensure that the function is defined, named properly, and returns the correct value\"\n",
    "print(\"Exercise 15 is correct.\")"
   ]
  },
  {
   "cell_type": "markdown",
   "metadata": {},
   "source": [
    "Exercise 16) Write a function definition named identity that takes in any argument and returns that argument's value. Don't overthink this one!"
   ]
  },
  {
   "cell_type": "code",
   "execution_count": 17,
   "metadata": {},
   "outputs": [
    {
     "name": "stdout",
     "output_type": "stream",
     "text": [
      "Exercise 16 is correct.\n"
     ]
    }
   ],
   "source": [
    "def identity(name):\n",
    "    return name\n",
    "\n",
    "assert identity(fruits) == fruits, \"Ensure that the function is defined, named properly, and returns the correct value\"\n",
    "assert identity(vegetables) == vegetables, \"Ensure that the function is defined, named properly, and returns the correct value\"\n",
    "assert identity(positive_odd_number) == positive_odd_number, \"Ensure that the function is defined, named properly, and returns the correct value\"\n",
    "assert identity(positive_even_number) == positive_even_number, \"Ensure that the function is defined, named properly, and returns the correct value\"\n",
    "assert identity(negative_odd_number) == negative_odd_number, \"Ensure that the function is defined, named properly, and returns the correct value\"\n",
    "assert identity(negative_even_number) == negative_even_number, \"Ensure that the function is defined, named properly, and returns the correct value\"\n",
    "print(\"Exercise 16 is correct.\")"
   ]
  },
  {
   "cell_type": "markdown",
   "metadata": {},
   "source": [
    "Exercise 17) Write a function definition named is_positive_odd that takes in a number and returns True or False if the value is both greater than zero and odd"
   ]
  },
  {
   "cell_type": "code",
   "execution_count": 19,
   "metadata": {},
   "outputs": [
    {
     "name": "stdout",
     "output_type": "stream",
     "text": [
      "Exercise 17 is correct.\n"
     ]
    }
   ],
   "source": [
    "def is_positive_odd(number):\n",
    "    remainder = number % 2\n",
    "    if number > 0 and remainder > 0:\n",
    "        return True\n",
    "    else:\n",
    "        return False\n",
    "\n",
    "assert is_positive_odd(3) == True, \"Double check your syntax and logic\" \n",
    "assert is_positive_odd(positive_odd_number) == True, \"Double check your syntax and logic\"\n",
    "assert is_positive_odd(positive_even_number) == False, \"Double check your syntax and logic\"\n",
    "assert is_positive_odd(negative_odd_number) == False, \"Double check your syntax and logic\"\n",
    "assert is_positive_odd(negative_even_number) == False, \"Double check your syntax and logic\"\n",
    "print(\"Exercise 17 is correct.\")"
   ]
  },
  {
   "cell_type": "markdown",
   "metadata": {},
   "source": [
    "Exercise 18) Write a function definition named is_positive_even that takes in a number and returns True or False if the value is both greater than zero and even"
   ]
  },
  {
   "cell_type": "code",
   "execution_count": 18,
   "metadata": {},
   "outputs": [
    {
     "name": "stdout",
     "output_type": "stream",
     "text": [
      "Exercise 18 is correct.\n"
     ]
    }
   ],
   "source": [
    "def is_positive_even(number):\n",
    "    remainder = number % 2\n",
    "    if number > 0 and remainder == 0:\n",
    "        return True\n",
    "    else:\n",
    "        return False\n",
    "\n",
    "assert is_positive_even(4) == True, \"Double check your syntax and logic\" \n",
    "assert is_positive_even(positive_odd_number) == False, \"Double check your syntax and logic\"\n",
    "assert is_positive_even(positive_even_number) == True, \"Double check your syntax and logic\"\n",
    "assert is_positive_even(negative_odd_number) == False, \"Double check your syntax and logic\"\n",
    "assert is_positive_even(negative_even_number) == False, \"Double check your syntax and logic\"\n",
    "print(\"Exercise 18 is correct.\")"
   ]
  },
  {
   "cell_type": "markdown",
   "metadata": {},
   "source": [
    "Exercise 19) Write a function definition named is_negative_odd that takes in a number and returns True or False if the value is both less than zero and odd."
   ]
  },
  {
   "cell_type": "code",
   "execution_count": 20,
   "metadata": {},
   "outputs": [
    {
     "name": "stdout",
     "output_type": "stream",
     "text": [
      "Exercise 19 is correct.\n"
     ]
    }
   ],
   "source": [
    "def is_negative_odd(number):\n",
    "    remainder = number % 2\n",
    "    if number < 0 and remainder > 0:\n",
    "        return True\n",
    "    else:\n",
    "        return False\n",
    "\n",
    "assert is_negative_odd(-3) == True, \"Double check your syntax and logic\" \n",
    "assert is_negative_odd(positive_odd_number) == False, \"Double check your syntax and logic\"\n",
    "assert is_negative_odd(positive_even_number) == False, \"Double check your syntax and logic\"\n",
    "assert is_negative_odd(negative_odd_number) == True, \"Double check your syntax and logic\"\n",
    "assert is_negative_odd(negative_even_number) == False, \"Double check your syntax and logic\"\n",
    "print(\"Exercise 19 is correct.\")"
   ]
  },
  {
   "cell_type": "markdown",
   "metadata": {},
   "source": [
    "Exercise 20) Write a function definition named is_negative_even that takes in a number and returns True or False if the value is both less than zero and even."
   ]
  },
  {
   "cell_type": "code",
   "execution_count": 21,
   "metadata": {},
   "outputs": [
    {
     "name": "stdout",
     "output_type": "stream",
     "text": [
      "Exercise 20 is correct.\n"
     ]
    }
   ],
   "source": [
    "def is_negative_even(number):\n",
    "    remainder = number % 2\n",
    "    if number < 0 and remainder == 0:\n",
    "        return True\n",
    "    else:\n",
    "        return False\n",
    "\n",
    "assert is_negative_even(-4) == True, \"Double check your syntax and logic\" \n",
    "assert is_negative_even(positive_odd_number) == False, \"Double check your syntax and logic\"\n",
    "assert is_negative_even(positive_even_number) == False, \"Double check your syntax and logic\"\n",
    "assert is_negative_even(negative_odd_number) == False, \"Double check your syntax and logic\"\n",
    "assert is_negative_even(negative_even_number) == True, \"Double check your syntax and logic\"\n",
    "print(\"Exercise 20 is correct.\")"
   ]
  },
  {
   "cell_type": "markdown",
   "metadata": {},
   "source": [
    "Exercise 21) Write a function definition named half that takes in a number and returns half the provided number."
   ]
  },
  {
   "cell_type": "code",
   "execution_count": 22,
   "metadata": {},
   "outputs": [
    {
     "name": "stdout",
     "output_type": "stream",
     "text": [
      "Exercise 21 is correct.\n"
     ]
    }
   ],
   "source": [
    "def half(number):\n",
    "    return number / 2\n",
    "\n",
    "assert half(4) == 2\n",
    "assert half(5) == 2.5\n",
    "assert half(positive_odd_number) == positive_odd_number / 2\n",
    "assert half(positive_even_number) == positive_even_number / 2\n",
    "assert half(negative_odd_number) == negative_odd_number / 2\n",
    "assert half(negative_even_number) == negative_even_number / 2\n",
    "print(\"Exercise 21 is correct.\")"
   ]
  },
  {
   "cell_type": "markdown",
   "metadata": {},
   "source": [
    "Exercise 22) Write a function definition named double that takes in a number and returns double the provided number."
   ]
  },
  {
   "cell_type": "code",
   "execution_count": 23,
   "metadata": {},
   "outputs": [
    {
     "name": "stdout",
     "output_type": "stream",
     "text": [
      "Exercise 22 is correct.\n"
     ]
    }
   ],
   "source": [
    "def double(number):\n",
    "    return number * 2\n",
    "\n",
    "assert double(4) == 8\n",
    "assert double(5) == 10\n",
    "assert double(positive_odd_number) == positive_odd_number * 2\n",
    "assert double(positive_even_number) == positive_even_number * 2\n",
    "assert double(negative_odd_number) == negative_odd_number * 2\n",
    "assert double(negative_even_number) == negative_even_number * 2\n",
    "print(\"Exercise 22 is correct.\")"
   ]
  },
  {
   "cell_type": "markdown",
   "metadata": {},
   "source": [
    "Exercise 23) Write a function definition named triple that takes in a number and returns triple the provided number."
   ]
  },
  {
   "cell_type": "code",
   "execution_count": 24,
   "metadata": {},
   "outputs": [
    {
     "name": "stdout",
     "output_type": "stream",
     "text": [
      "Exercise 23 is correct.\n"
     ]
    }
   ],
   "source": [
    "def triple(number):\n",
    "    return number * 3\n",
    "\n",
    "assert triple(4) == 12\n",
    "assert triple(5) == 15\n",
    "assert triple(positive_odd_number) == positive_odd_number * 3\n",
    "assert triple(positive_even_number) == positive_even_number * 3\n",
    "assert triple(negative_odd_number) == negative_odd_number * 3\n",
    "assert triple(negative_even_number) == negative_even_number * 3\n",
    "print(\"Exercise 23 is correct.\")"
   ]
  },
  {
   "cell_type": "code",
   "execution_count": null,
   "metadata": {},
   "outputs": [],
   "source": []
  }
 ],
 "metadata": {
  "kernelspec": {
   "display_name": "Python 3",
   "language": "python",
   "name": "python3"
  },
  "language_info": {
   "codemirror_mode": {
    "name": "ipython",
    "version": 3
   },
   "file_extension": ".py",
   "mimetype": "text/x-python",
   "name": "python",
   "nbconvert_exporter": "python",
   "pygments_lexer": "ipython3",
   "version": "3.7.6"
  }
 },
 "nbformat": 4,
 "nbformat_minor": 4
}
